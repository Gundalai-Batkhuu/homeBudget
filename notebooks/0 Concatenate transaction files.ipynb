{
 "cells": [
  {
   "cell_type": "code",
   "source": [
    "import pandas as pd"
   ],
   "metadata": {
    "collapsed": false
   },
   "id": "e394964a6761fbd1",
   "outputs": [],
   "execution_count": null
  },
  {
   "cell_type": "code",
   "source": [
    "from kedro.io import DataCatalog\n",
    "\n",
    "import yaml\n",
    "\n",
    "# load the configuration file\n",
    "with open(\"../conf/base/catalog.yml\") as f:\n",
    "    conf_catalog = yaml.safe_load(f)\n",
    "\n",
    "# Create the DataCatalog instance from the configuration\n",
    "catalog = DataCatalog.from_config(conf_catalog)"
   ],
   "metadata": {
    "collapsed": false
   },
   "id": "b18667e73d7868d4",
   "outputs": [],
   "execution_count": null
  },
  {
   "cell_type": "code",
   "source": [
    "catalog.list()"
   ],
   "metadata": {
    "collapsed": false
   },
   "id": "117b8df7ad19b20",
   "outputs": [],
   "execution_count": null
  },
  {
   "cell_type": "code",
   "source": [
    "df_01_1 = catalog.load(\"01_bank_account_1\")"
   ],
   "metadata": {
    "collapsed": false
   },
   "id": "92a8ec4b31857a14",
   "outputs": [],
   "execution_count": null
  },
  {
   "cell_type": "code",
   "source": [
    "df_01_1.columns = ['date', 'amount', 'description', 'bank_balance']\n",
    "df_01_1.head()"
   ],
   "metadata": {
    "collapsed": false
   },
   "id": "a1d0a7a20583dddf",
   "outputs": [],
   "execution_count": null
  },
  {
   "cell_type": "code",
   "source": [
    "# Assessing data by columns\n",
    "df_01_1.info()"
   ],
   "metadata": {
    "collapsed": false
   },
   "id": "baee24d50e6a5930",
   "outputs": [],
   "execution_count": null
  },
  {
   "cell_type": "code",
   "source": [
    "df_01_2 = catalog.load(\"01_bank_account_2\")\n",
    "df_01_2.columns = ['date', 'amount', 'description', 'bank_balance']\n",
    "df_01_2.head()"
   ],
   "metadata": {
    "collapsed": false
   },
   "id": "9fe2071eaf28298",
   "outputs": [],
   "execution_count": null
  },
  {
   "cell_type": "code",
   "source": [
    "# Assessing data by columns\n",
    "df_01_2.info()"
   ],
   "metadata": {
    "collapsed": false
   },
   "id": "8f7b161c8e003795",
   "outputs": [],
   "execution_count": null
  },
  {
   "cell_type": "code",
   "source": [
    "df_01_3 = catalog.load(\"01_bank_account_3\")\n",
    "df_01_3.columns = ['date', 'amount', 'description', 'bank_balance']\n",
    "df_01_3.info()"
   ],
   "metadata": {
    "collapsed": false
   },
   "id": "e6fc92e827ef8506",
   "outputs": [],
   "execution_count": null
  },
  {
   "cell_type": "code",
   "source": [
    "df = pd.concat([df_01_1, df_01_2], ignore_index=True)\n",
    "df.info()"
   ],
   "metadata": {
    "collapsed": false
   },
   "id": "4ca0d1217b7b29b6",
   "outputs": [],
   "execution_count": null
  },
  {
   "cell_type": "code",
   "source": [
    "df = df.drop_duplicates()\n",
    "df.info()"
   ],
   "metadata": {
    "collapsed": false
   },
   "id": "6d75aff49fd453fe",
   "outputs": [],
   "execution_count": null
  },
  {
   "cell_type": "code",
   "source": [
    "total_length = len(df_01_1) + len(df_01_2) + len(df_01_3)\n",
    "print(f\"Total length of the dataframes: {total_length}\")"
   ],
   "metadata": {
    "collapsed": false
   },
   "id": "5123f29f7e22ef86",
   "outputs": [],
   "execution_count": null
  },
  {
   "cell_type": "code",
   "source": [
    "df = pd.concat([df, df_01_3], ignore_index=True)\n",
    "df.insert(1,'member_id', 1)\n",
    "df.info()"
   ],
   "metadata": {
    "collapsed": false
   },
   "id": "ed12f66376173f54",
   "outputs": [],
   "execution_count": null
  },
  {
   "cell_type": "markdown",
   "source": [
    "The concatenated dataframe has duplicated rows. Let's remove them."
   ],
   "metadata": {
    "collapsed": false
   },
   "id": "917bbd1f2c2562ad"
  },
  {
   "cell_type": "code",
   "source": [
    "df = df.drop_duplicates()\n",
    "df.info()"
   ],
   "metadata": {
    "collapsed": false
   },
   "id": "2f8e265dcdc8a792",
   "outputs": [],
   "execution_count": null
  },
  {
   "cell_type": "code",
   "source": [
    "catalog.save(\"01_bank_account\", df)"
   ],
   "metadata": {
    "collapsed": false
   },
   "id": "5d88096a9727c680",
   "outputs": [],
   "execution_count": null
  },
  {
   "cell_type": "code",
   "source": [
    "test = catalog.load(\"01_bank_account\")\n",
    "test.info()"
   ],
   "metadata": {
    "collapsed": false
   },
   "id": "7b402719ac2fedba",
   "outputs": [],
   "execution_count": null
  }
 ],
 "metadata": {
  "kernelspec": {
   "display_name": "Python 3",
   "language": "python",
   "name": "python3"
  },
  "language_info": {
   "codemirror_mode": {
    "name": "ipython",
    "version": 2
   },
   "file_extension": ".py",
   "mimetype": "text/x-python",
   "name": "python",
   "nbconvert_exporter": "python",
   "pygments_lexer": "ipython2",
   "version": "2.7.6"
  }
 },
 "nbformat": 4,
 "nbformat_minor": 5
}
