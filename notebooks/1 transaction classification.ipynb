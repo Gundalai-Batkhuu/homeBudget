{
 "cells": [
  {
   "cell_type": "code",
   "metadata": {
    "collapsed": false
   },
   "source": [
    "import pandas as pd\n",
    "import nltk\n",
    "from nltk.corpus import stopwords\n",
    "from nltk.tokenize import RegexpTokenizer\n",
    "nltk.download('punkt')\n",
    "nltk.download('stopwords')\n",
    "from src import database as db"
   ],
   "execution_count": null,
   "outputs": []
  },
  {
   "cell_type": "markdown",
   "source": [
    "# Transactions Classification\n",
    "The classification uses deterministic approach where the transaction description is matched with the keywords of the account names. The first match is used to assign the debit and credit accounts. If no match is found, the default accounts are used."
   ],
   "metadata": {
    "collapsed": false
   }
  },
  {
   "cell_type": "markdown",
   "source": [
    "## Tokenization of transaction descriptions"
   ],
   "metadata": {
    "collapsed": false
   }
  },
  {
   "cell_type": "code",
   "source": [
    "df = pd.read_csv('../data/02_intermediate/01_bank_account/01_bank_account_transactions.csv')\n",
    "df.info()"
   ],
   "metadata": {
    "collapsed": false
   },
   "execution_count": null,
   "outputs": []
  },
  {
   "cell_type": "code",
   "source": [
    "# Tokenize the 'Description' column and create a new column 'Tokens'\n",
    "def tokenize_text(text):\n",
    "    return RegexpTokenizer(r'\\w+').tokenize(text)\n",
    "df['tokens'] = df['description'].apply(lambda x: tokenize_text(x))\n",
    "df.head()"
   ],
   "metadata": {
    "collapsed": false
   },
   "execution_count": null,
   "outputs": []
  },
  {
   "cell_type": "code",
   "source": [
    "stop_words = set(stopwords.words('english'))\n",
    "stop_words.update({'value', 'date', 'card', 'au', 'aus', 'xx5824', 'canberra', 'sydney', 'melbourne'})\n",
    "\n",
    "def remove_tokens(tokens):\n",
    "    \"\"\"Removes stopwords and numeric values from a list of tokens\"\"\"\n",
    "    filtered_sentence = []\n",
    "    for w in tokens:\n",
    "        if w.lower() not in stop_words and not w.isnumeric():\n",
    "            filtered_sentence.append(w)\n",
    "    return filtered_sentence\n",
    "\n",
    "df['tokens'] = df['tokens'].apply(lambda x: remove_tokens(x))\n",
    "df.head()"
   ],
   "metadata": {
    "collapsed": false
   },
   "execution_count": null,
   "outputs": []
  },
  {
   "cell_type": "markdown",
   "source": [
    "## Get account names and their classification tokens from the database"
   ],
   "metadata": {
    "collapsed": false
   }
  },
  {
   "cell_type": "code",
   "metadata": {
    "collapsed": false
   },
   "source": [
    "conn = db.create_db_connection()\n",
    "db.add_transaction_category(conn)\n",
    "categories = db.get_account_names_and_keywords(conn)\n",
    "conn.close()\n",
    "print(categories)"
   ],
   "execution_count": null,
   "outputs": []
  },
  {
   "cell_type": "markdown",
   "source": [
    "## Assign debit and credit accounts to the transactions"
   ],
   "metadata": {
    "collapsed": false
   }
  },
  {
   "cell_type": "code",
   "source": [
    "# Add 'Debit' and 'Credit' columns to the dataframe with default values\n",
    "df.insert(1, 'debit_account', 'Misc')\n",
    "df.insert(2, 'credit_account', 'Cash')\n",
    "df.insert(3, 'type', 'Expense')\n",
    "df.head()"
   ],
   "metadata": {
    "collapsed": false
   },
   "execution_count": null,
   "outputs": []
  },
  {
   "cell_type": "code",
   "metadata": {
    "collapsed": false
   },
   "source": [
    "def assign_category(row, categories):\n",
    "    \"\"\"Iterates through the dictionary and assigns debit and credit accounts to the transactions in the dataframe\"\"\"\n",
    "    tokens = row[\"tokens\"]\n",
    "    amount = row[\"amount\"]\n",
    "    row['amount'] = abs(amount)\n",
    "    \n",
    "    for category, keywords in categories.items():\n",
    "        for token in tokens:\n",
    "            if token in keywords:\n",
    "                if amount < 0:\n",
    "                    row['debit_account'] = category\n",
    "                    row['type'] = 'Expense'\n",
    "                else:\n",
    "                    row['credit_account'] = category\n",
    "                    row['type'] = 'Income'\n",
    "                return row  # Exit the function after assigning the category\n",
    "    return row # Return the row as is if no category is found\n",
    "\n",
    "df = df.apply(lambda row: assign_category(row, categories), axis=1)\n",
    "df.head()"
   ],
   "execution_count": null,
   "outputs": []
  },
  {
   "cell_type": "code",
   "metadata": {
    "collapsed": false
   },
   "source": [
    "# Converting datatype of the date column into datetime\n",
    "df['date']=pd.to_datetime(df['date'],exact=True,format='%d/%m/%Y')"
   ],
   "execution_count": null,
   "outputs": []
  },
  {
   "cell_type": "markdown",
   "source": [
    "## Analyse the classification results"
   ],
   "metadata": {
    "collapsed": false
   }
  },
  {
   "cell_type": "code",
   "source": [
    "df.info()"
   ],
   "metadata": {
    "collapsed": false
   },
   "execution_count": null,
   "outputs": []
  },
  {
   "cell_type": "code",
   "source": [
    "df['debit_account'].value_counts()"
   ],
   "metadata": {
    "collapsed": false
   },
   "execution_count": null,
   "outputs": []
  },
  {
   "cell_type": "code",
   "source": [
    "# Number of unclassified transactions\n",
    "len_unclassified = len(df[df['debit_account'] == 'Misc'])\n",
    "print(len_unclassified)"
   ],
   "metadata": {
    "collapsed": false
   },
   "execution_count": null,
   "outputs": []
  },
  {
   "cell_type": "code",
   "source": [
    "# Proportion of unclassified transactions from the total number of transactions\n",
    "proportion_unclassified = len_unclassified / len(df)\n",
    "print(\"The proportion of unclassified transactions is: \" + str(proportion_unclassified))"
   ],
   "metadata": {
    "collapsed": false
   },
   "execution_count": null,
   "outputs": []
  },
  {
   "cell_type": "code",
   "source": [
    "df['tokens'] = df['tokens'].apply(lambda x: ', '.join(x))"
   ],
   "metadata": {
    "collapsed": false
   },
   "execution_count": null,
   "outputs": []
  },
  {
   "cell_type": "markdown",
   "source": [
    "## Save the transactions to a CSV file"
   ],
   "metadata": {
    "collapsed": false
   }
  },
  {
   "cell_type": "code",
   "metadata": {
    "collapsed": false
   },
   "source": [
    "df.to_csv('../data/03_primary/01_bank_account/transactions.csv', index=False)"
   ],
   "execution_count": null,
   "outputs": []
  }
 ],
 "metadata": {
  "kernelspec": {
   "display_name": "Kedro (bank_transaction_classification)",
   "language": "python",
   "name": "kedro_bank_transaction_classification"
  },
  "language_info": {
   "codemirror_mode": {
    "name": "ipython",
    "version": 3
   },
   "file_extension": ".py",
   "mimetype": "text/x-python",
   "name": "python",
   "nbconvert_exporter": "python",
   "pygments_lexer": "ipython3",
   "version": "3.10.12"
  }
 },
 "nbformat": 4,
 "nbformat_minor": 4
}
