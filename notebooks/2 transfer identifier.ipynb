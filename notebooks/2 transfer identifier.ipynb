{
 "cells": [
  {
   "cell_type": "code",
   "metadata": {
    "collapsed": true
   },
   "source": [
    "import pandas as pd\n",
    "import ast"
   ],
   "outputs": [],
   "execution_count": null
  },
  {
   "cell_type": "code",
   "source": [
    "# Create dataframe from csv file\n",
    "df = pd.read_csv('/home/gunee/Projects/Gunee/Home-budgeting/data/03_primary/clean_gunee_transactions.csv')"
   ],
   "metadata": {
    "collapsed": false
   },
   "outputs": [],
   "execution_count": null
  },
  {
   "cell_type": "code",
   "source": [
    "df.head()"
   ],
   "metadata": {
    "collapsed": false
   },
   "outputs": [],
   "execution_count": null
  },
  {
   "cell_type": "code",
   "source": [
    "def is_transfer(row):\n",
    "    if (row['Tokens'][0] == 'Transfer' and (row['Tokens'][1] == 'Gundalai' or row['Tokens'][1] == 'GUNDALAI')) \\\n",
    "            or (row['Tokens'][0] == 'Transfer' and (row['Tokens'][1] == 'Nomuunaa' or row['Tokens'][1] == 'NOMUUNAA')):\n",
    "        return True\n",
    "    else:\n",
    "        return False\n",
    "\n",
    "\n",
    "# %%\n",
    "df['is_transfer_to_paired_account'] = df.apply(is_transfer, axis=1)\n",
    "# %%\n",
    "df['is_transfer_to_paired_account'].value_counts()\n",
    "# %%\n",
    "df[df['is_transfer_to_paired_account'] == True]"
   ],
   "metadata": {
    "collapsed": false
   },
   "outputs": [],
   "execution_count": null
  },
  {
   "cell_type": "code",
   "source": [
    "def is_transfer(row):\n",
    "    if (row['Tokens'][0] == 'Transfer' and (row['Tokens'][1] == 'Gundalai' or row['Tokens'][1] == 'GUNDALAI')) \\\n",
    "            or (row['Tokens'][0] == 'Transfer' and (row['Tokens'][1] == 'Nomuunaa' or row['Tokens'][1] == 'NOMUUNAA')):\n",
    "        return True\n",
    "    else:\n",
    "        return False\n",
    "\n",
    "\n",
    "df['is_transfer_to_paired_account'] = df.apply(is_transfer, axis=1)\n",
    "df['is_transfer_to_paired_account'].value_counts()\n",
    "df[df['is_transfer_to_paired_account'] == True]"
   ],
   "metadata": {
    "collapsed": false
   },
   "outputs": [],
   "execution_count": null
  },
  {
   "cell_type": "code",
   "source": [
    "def is_transfer(row):\n",
    "    if row['Tokens'][0] == 'Transfer':\n",
    "        return True\n",
    "    else:\n",
    "        return False"
   ],
   "metadata": {
    "collapsed": false
   },
   "outputs": [],
   "execution_count": null
  },
  {
   "cell_type": "code",
   "source": [
    "df['is_transfer'] = df.apply(is_transfer, axis=1)"
   ],
   "metadata": {
    "collapsed": false
   },
   "outputs": [],
   "execution_count": null
  },
  {
   "cell_type": "code",
   "source": [
    "df['is_transfer'].value_counts()"
   ],
   "metadata": {
    "collapsed": false
   },
   "outputs": [],
   "execution_count": null
  },
  {
   "cell_type": "code",
   "source": [
    "df.head()"
   ],
   "metadata": {
    "collapsed": false
   },
   "outputs": [],
   "execution_count": null
  },
  {
   "cell_type": "code",
   "source": [
    "# Divide the dataframe using boolean indexing based on the '' column\n",
    "transfer_df = df[df['is_transfer']]\n",
    "without_transfer_df = df[~df['is_transfer']]"
   ],
   "metadata": {
    "collapsed": false
   },
   "outputs": [],
   "execution_count": null
  },
  {
   "cell_type": "code",
   "source": [
    "# Assign 'Transfer' as the value for the 'Type' column using .loc\n",
    "transfer_df.loc[:, 'Type'] = 'Transfer'\n",
    "transfer_df.drop(columns=['is_transfer'], inplace=True)"
   ],
   "metadata": {
    "collapsed": false
   },
   "outputs": [],
   "execution_count": null
  },
  {
   "cell_type": "code",
   "source": [
    "without_transfer_df.drop(columns=['is_transfer'], inplace=True)\n",
    "transfer_df.head()"
   ],
   "metadata": {
    "collapsed": false
   },
   "outputs": [],
   "execution_count": null
  }
 ],
 "metadata": {
  "kernelspec": {
   "name": "python3",
   "language": "python",
   "display_name": "Python 3 (ipykernel)"
  },
  "language_info": {
   "codemirror_mode": {
    "name": "ipython",
    "version": 2
   },
   "file_extension": ".py",
   "mimetype": "text/x-python",
   "name": "python",
   "nbconvert_exporter": "python",
   "pygments_lexer": "ipython2",
   "version": "2.7.6"
  }
 },
 "nbformat": 4,
 "nbformat_minor": 0
}
