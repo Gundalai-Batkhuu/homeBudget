{
 "cells": [
  {
   "metadata": {
    "ExecuteTime": {
     "end_time": "2024-04-23T12:44:45.835729Z",
     "start_time": "2024-04-23T12:44:45.576593Z"
    }
   },
   "cell_type": "code",
   "source": "import pandas as pd",
   "id": "8bdb405876663bc9",
   "outputs": [],
   "execution_count": 1
  },
  {
   "metadata": {
    "ExecuteTime": {
     "end_time": "2024-04-23T12:46:00.108008Z",
     "start_time": "2024-04-23T12:46:00.103628Z"
    }
   },
   "cell_type": "code",
   "source": "df = pd.read_csv('/home/gunee/Projects/Gunee/homeBudget/data/03_primary/fake_transactions.csv', index_col=False)",
   "id": "54d7833660250e",
   "outputs": [],
   "execution_count": 7
  },
  {
   "metadata": {
    "ExecuteTime": {
     "end_time": "2024-04-23T12:46:00.564805Z",
     "start_time": "2024-04-23T12:46:00.556400Z"
    }
   },
   "cell_type": "code",
   "source": "df.head()",
   "id": "27e3bc3ea7f2c35f",
   "outputs": [
    {
     "data": {
      "text/plain": [
       "   1  50.00        Savings  Checking  2023-01-01     Grocery shopping  \\\n",
       "0  2  100.0         Salary  Checking  2023-01-01       Monthly salary   \n",
       "1  3   25.0  Entertainment  Checking  2023-01-02        Movie tickets   \n",
       "2  4   80.0      Utilities  Checking  2023-01-03        Electric bill   \n",
       "3  5  150.0        Savings  Checking  2023-01-03  Transfer to savings   \n",
       "4  6  200.0         Salary  Checking  2023-01-15       Monthly salary   \n",
       "\n",
       "   1234567   Debit  4950.00  \n",
       "0  1234567  Credit   5050.0  \n",
       "1  1234567   Debit   5025.0  \n",
       "2  1234567   Debit   4945.0  \n",
       "3  1234567   Debit   4795.0  \n",
       "4  1234567  Credit   4995.0  "
      ],
      "text/html": [
       "<div>\n",
       "<style scoped>\n",
       "    .dataframe tbody tr th:only-of-type {\n",
       "        vertical-align: middle;\n",
       "    }\n",
       "\n",
       "    .dataframe tbody tr th {\n",
       "        vertical-align: top;\n",
       "    }\n",
       "\n",
       "    .dataframe thead th {\n",
       "        text-align: right;\n",
       "    }\n",
       "</style>\n",
       "<table border=\"1\" class=\"dataframe\">\n",
       "  <thead>\n",
       "    <tr style=\"text-align: right;\">\n",
       "      <th></th>\n",
       "      <th>1</th>\n",
       "      <th>50.00</th>\n",
       "      <th>Savings</th>\n",
       "      <th>Checking</th>\n",
       "      <th>2023-01-01</th>\n",
       "      <th>Grocery shopping</th>\n",
       "      <th>1234567</th>\n",
       "      <th>Debit</th>\n",
       "      <th>4950.00</th>\n",
       "    </tr>\n",
       "  </thead>\n",
       "  <tbody>\n",
       "    <tr>\n",
       "      <th>0</th>\n",
       "      <td>2</td>\n",
       "      <td>100.0</td>\n",
       "      <td>Salary</td>\n",
       "      <td>Checking</td>\n",
       "      <td>2023-01-01</td>\n",
       "      <td>Monthly salary</td>\n",
       "      <td>1234567</td>\n",
       "      <td>Credit</td>\n",
       "      <td>5050.0</td>\n",
       "    </tr>\n",
       "    <tr>\n",
       "      <th>1</th>\n",
       "      <td>3</td>\n",
       "      <td>25.0</td>\n",
       "      <td>Entertainment</td>\n",
       "      <td>Checking</td>\n",
       "      <td>2023-01-02</td>\n",
       "      <td>Movie tickets</td>\n",
       "      <td>1234567</td>\n",
       "      <td>Debit</td>\n",
       "      <td>5025.0</td>\n",
       "    </tr>\n",
       "    <tr>\n",
       "      <th>2</th>\n",
       "      <td>4</td>\n",
       "      <td>80.0</td>\n",
       "      <td>Utilities</td>\n",
       "      <td>Checking</td>\n",
       "      <td>2023-01-03</td>\n",
       "      <td>Electric bill</td>\n",
       "      <td>1234567</td>\n",
       "      <td>Debit</td>\n",
       "      <td>4945.0</td>\n",
       "    </tr>\n",
       "    <tr>\n",
       "      <th>3</th>\n",
       "      <td>5</td>\n",
       "      <td>150.0</td>\n",
       "      <td>Savings</td>\n",
       "      <td>Checking</td>\n",
       "      <td>2023-01-03</td>\n",
       "      <td>Transfer to savings</td>\n",
       "      <td>1234567</td>\n",
       "      <td>Debit</td>\n",
       "      <td>4795.0</td>\n",
       "    </tr>\n",
       "    <tr>\n",
       "      <th>4</th>\n",
       "      <td>6</td>\n",
       "      <td>200.0</td>\n",
       "      <td>Salary</td>\n",
       "      <td>Checking</td>\n",
       "      <td>2023-01-15</td>\n",
       "      <td>Monthly salary</td>\n",
       "      <td>1234567</td>\n",
       "      <td>Credit</td>\n",
       "      <td>4995.0</td>\n",
       "    </tr>\n",
       "  </tbody>\n",
       "</table>\n",
       "</div>"
      ]
     },
     "execution_count": 8,
     "metadata": {},
     "output_type": "execute_result"
    }
   ],
   "execution_count": 8
  },
  {
   "metadata": {
    "ExecuteTime": {
     "end_time": "2024-04-23T12:54:07.050982Z",
     "start_time": "2024-04-23T12:54:07.044177Z"
    }
   },
   "cell_type": "code",
   "source": "df['Savings'].unique()",
   "id": "e7ad663dc5987f2d",
   "outputs": [
    {
     "data": {
      "text/plain": [
       "array(['Salary', 'Entertainment', 'Utilities', 'Savings', 'Groceries',\n",
       "       'Dining'], dtype=object)"
      ]
     },
     "execution_count": 11,
     "metadata": {},
     "output_type": "execute_result"
    }
   ],
   "execution_count": 11
  },
  {
   "metadata": {},
   "cell_type": "code",
   "outputs": [],
   "execution_count": null,
   "source": "",
   "id": "bddb9a9bc1960d58"
  }
 ],
 "metadata": {
  "kernelspec": {
   "display_name": "Python 3",
   "language": "python",
   "name": "python3"
  },
  "language_info": {
   "codemirror_mode": {
    "name": "ipython",
    "version": 2
   },
   "file_extension": ".py",
   "mimetype": "text/x-python",
   "name": "python",
   "nbconvert_exporter": "python",
   "pygments_lexer": "ipython2",
   "version": "2.7.6"
  }
 },
 "nbformat": 4,
 "nbformat_minor": 5
}
