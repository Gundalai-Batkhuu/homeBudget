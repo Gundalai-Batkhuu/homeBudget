{
 "cells": [
  {
   "cell_type": "code",
   "execution_count": 6,
   "metadata": {},
   "outputs": [],
   "source": [
    "import numpy as np\n",
    "import pandas as pd\n",
    "\n",
    "data = pd.read_csv('../data/CSVData.csv')"
   ]
  },
  {
   "cell_type": "code",
   "execution_count": 7,
   "metadata": {},
   "outputs": [
    {
     "data": {
      "text/html": [
       "<div>\n",
       "<style scoped>\n",
       "    .dataframe tbody tr th:only-of-type {\n",
       "        vertical-align: middle;\n",
       "    }\n",
       "\n",
       "    .dataframe tbody tr th {\n",
       "        vertical-align: top;\n",
       "    }\n",
       "\n",
       "    .dataframe thead th {\n",
       "        text-align: right;\n",
       "    }\n",
       "</style>\n",
       "<table border=\"1\" class=\"dataframe\">\n",
       "  <thead>\n",
       "    <tr style=\"text-align: right;\">\n",
       "      <th></th>\n",
       "      <th>Date</th>\n",
       "      <th>Expense</th>\n",
       "      <th>Description</th>\n",
       "      <th>Balance</th>\n",
       "    </tr>\n",
       "  </thead>\n",
       "  <tbody>\n",
       "    <tr>\n",
       "      <th>0</th>\n",
       "      <td>06/04/2024</td>\n",
       "      <td>-36.67</td>\n",
       "      <td>Banme Braddon AU AUS Card xx0393 Value Date: 0...</td>\n",
       "      <td>1992.35</td>\n",
       "    </tr>\n",
       "    <tr>\n",
       "      <th>1</th>\n",
       "      <td>06/04/2024</td>\n",
       "      <td>-6.45</td>\n",
       "      <td>COLES 4787 CANBERRA AU AUS Card xx0393 Value D...</td>\n",
       "      <td>2029.02</td>\n",
       "    </tr>\n",
       "    <tr>\n",
       "      <th>2</th>\n",
       "      <td>06/04/2024</td>\n",
       "      <td>-7.00</td>\n",
       "      <td>Soul Origin Belconnen Belconnen AC AUS Card xx...</td>\n",
       "      <td>2035.47</td>\n",
       "    </tr>\n",
       "    <tr>\n",
       "      <th>3</th>\n",
       "      <td>06/04/2024</td>\n",
       "      <td>-4.90</td>\n",
       "      <td>Soul Origin Belconnen Belconnen AC AUS Card xx...</td>\n",
       "      <td>2042.47</td>\n",
       "    </tr>\n",
       "    <tr>\n",
       "      <th>4</th>\n",
       "      <td>06/04/2024</td>\n",
       "      <td>-45.17</td>\n",
       "      <td>Vodafone Australia North Sydney AU AUS Card xx...</td>\n",
       "      <td>2047.37</td>\n",
       "    </tr>\n",
       "    <tr>\n",
       "      <th>5</th>\n",
       "      <td>05/04/2024</td>\n",
       "      <td>1377.22</td>\n",
       "      <td>Salary HSCT PTY LTD PAY FOR 5/04/2024</td>\n",
       "      <td>2092.54</td>\n",
       "    </tr>\n",
       "    <tr>\n",
       "      <th>6</th>\n",
       "      <td>05/04/2024</td>\n",
       "      <td>-17.80</td>\n",
       "      <td>COLES 4787 CANBERRA AU AUS Card xx0393 Value D...</td>\n",
       "      <td>715.32</td>\n",
       "    </tr>\n",
       "    <tr>\n",
       "      <th>7</th>\n",
       "      <td>04/04/2024</td>\n",
       "      <td>356.34</td>\n",
       "      <td>Direct Credit 128594 FUEGO NERO PTY L PAY FOR ...</td>\n",
       "      <td>733.12</td>\n",
       "    </tr>\n",
       "    <tr>\n",
       "      <th>8</th>\n",
       "      <td>04/04/2024</td>\n",
       "      <td>-11.24</td>\n",
       "      <td>COLES 4787 CANBERRA AU AUS Card xx0393 Value D...</td>\n",
       "      <td>376.78</td>\n",
       "    </tr>\n",
       "    <tr>\n",
       "      <th>9</th>\n",
       "      <td>03/04/2024</td>\n",
       "      <td>-16.04</td>\n",
       "      <td>1919 Lanzhou Beef Nood Canberra AC AUS Card xx...</td>\n",
       "      <td>388.02</td>\n",
       "    </tr>\n",
       "  </tbody>\n",
       "</table>\n",
       "</div>"
      ],
      "text/plain": [
       "         Date  Expense                                        Description  \\\n",
       "0  06/04/2024   -36.67  Banme Braddon AU AUS Card xx0393 Value Date: 0...   \n",
       "1  06/04/2024    -6.45  COLES 4787 CANBERRA AU AUS Card xx0393 Value D...   \n",
       "2  06/04/2024    -7.00  Soul Origin Belconnen Belconnen AC AUS Card xx...   \n",
       "3  06/04/2024    -4.90  Soul Origin Belconnen Belconnen AC AUS Card xx...   \n",
       "4  06/04/2024   -45.17  Vodafone Australia North Sydney AU AUS Card xx...   \n",
       "5  05/04/2024  1377.22              Salary HSCT PTY LTD PAY FOR 5/04/2024   \n",
       "6  05/04/2024   -17.80  COLES 4787 CANBERRA AU AUS Card xx0393 Value D...   \n",
       "7  04/04/2024   356.34  Direct Credit 128594 FUEGO NERO PTY L PAY FOR ...   \n",
       "8  04/04/2024   -11.24  COLES 4787 CANBERRA AU AUS Card xx0393 Value D...   \n",
       "9  03/04/2024   -16.04  1919 Lanzhou Beef Nood Canberra AC AUS Card xx...   \n",
       "\n",
       "   Balance  \n",
       "0  1992.35  \n",
       "1  2029.02  \n",
       "2  2035.47  \n",
       "3  2042.47  \n",
       "4  2047.37  \n",
       "5  2092.54  \n",
       "6   715.32  \n",
       "7   733.12  \n",
       "8   376.78  \n",
       "9   388.02  "
      ]
     },
     "execution_count": 7,
     "metadata": {},
     "output_type": "execute_result"
    }
   ],
   "source": [
    "data.head(10)"
   ]
  },
  {
   "cell_type": "code",
   "execution_count": 8,
   "metadata": {},
   "outputs": [
    {
     "data": {
      "text/plain": [
       "Date           0\n",
       "Expense        0\n",
       "Description    0\n",
       "Balance        0\n",
       "dtype: int64"
      ]
     },
     "execution_count": 8,
     "metadata": {},
     "output_type": "execute_result"
    }
   ],
   "source": [
    "missing_value_cnt = data.isnull().sum()\n",
    "missing_value_cnt"
   ]
  },
  {
   "cell_type": "markdown",
   "metadata": {},
   "source": [
    "Dataset from the CommomBank is quite clean."
   ]
  },
  {
   "cell_type": "code",
   "execution_count": null,
   "metadata": {},
   "outputs": [],
   "source": []
  }
 ],
 "metadata": {
  "kernelspec": {
   "display_name": "tf_m1",
   "language": "python",
   "name": "python3"
  },
  "language_info": {
   "codemirror_mode": {
    "name": "ipython",
    "version": 3
   },
   "file_extension": ".py",
   "mimetype": "text/x-python",
   "name": "python",
   "nbconvert_exporter": "python",
   "pygments_lexer": "ipython3",
   "version": "3.8.12"
  }
 },
 "nbformat": 4,
 "nbformat_minor": 2
}
