{
 "cells": [
  {
   "cell_type": "markdown",
   "metadata": {},
   "source": [
    "Trying to reproduce the paper [Scalable and Weakly Supervised Bank Transaction Classification](https://arxiv.org/abs/2305.18430), follow the article of [No Labels? No Problem! A Better Way to Classify Bank Transaction Data](https://medium.com/@echo_neath_ashtrees/no-labels-no-problem-a-better-way-to-classify-bank-transaction-data-73380ce20734)"
   ]
  },
  {
   "cell_type": "code",
   "execution_count": 114,
   "metadata": {},
   "outputs": [],
   "source": [
    "import numpy as np\n",
    "import pandas as pd\n",
    "\n",
    "data = pd.read_csv('../data/CSVData.csv')"
   ]
  },
  {
   "cell_type": "code",
   "execution_count": 115,
   "metadata": {},
   "outputs": [
    {
     "data": {
      "text/html": [
       "<div>\n",
       "<style scoped>\n",
       "    .dataframe tbody tr th:only-of-type {\n",
       "        vertical-align: middle;\n",
       "    }\n",
       "\n",
       "    .dataframe tbody tr th {\n",
       "        vertical-align: top;\n",
       "    }\n",
       "\n",
       "    .dataframe thead th {\n",
       "        text-align: right;\n",
       "    }\n",
       "</style>\n",
       "<table border=\"1\" class=\"dataframe\">\n",
       "  <thead>\n",
       "    <tr style=\"text-align: right;\">\n",
       "      <th></th>\n",
       "      <th>Date</th>\n",
       "      <th>Expense</th>\n",
       "      <th>Description</th>\n",
       "      <th>Balance</th>\n",
       "    </tr>\n",
       "  </thead>\n",
       "  <tbody>\n",
       "    <tr>\n",
       "      <th>0</th>\n",
       "      <td>06/04/2024</td>\n",
       "      <td>-36.67</td>\n",
       "      <td>Banme Braddon AU AUS Card xx0393 Value Date: 0...</td>\n",
       "      <td>1992.35</td>\n",
       "    </tr>\n",
       "    <tr>\n",
       "      <th>1</th>\n",
       "      <td>06/04/2024</td>\n",
       "      <td>-6.45</td>\n",
       "      <td>COLES 4787 CANBERRA AU AUS Card xx0393 Value D...</td>\n",
       "      <td>2029.02</td>\n",
       "    </tr>\n",
       "    <tr>\n",
       "      <th>2</th>\n",
       "      <td>06/04/2024</td>\n",
       "      <td>-7.00</td>\n",
       "      <td>Soul Origin Belconnen Belconnen AC AUS Card xx...</td>\n",
       "      <td>2035.47</td>\n",
       "    </tr>\n",
       "    <tr>\n",
       "      <th>3</th>\n",
       "      <td>06/04/2024</td>\n",
       "      <td>-4.90</td>\n",
       "      <td>Soul Origin Belconnen Belconnen AC AUS Card xx...</td>\n",
       "      <td>2042.47</td>\n",
       "    </tr>\n",
       "    <tr>\n",
       "      <th>4</th>\n",
       "      <td>06/04/2024</td>\n",
       "      <td>-45.17</td>\n",
       "      <td>Vodafone Australia North Sydney AU AUS Card xx...</td>\n",
       "      <td>2047.37</td>\n",
       "    </tr>\n",
       "    <tr>\n",
       "      <th>5</th>\n",
       "      <td>05/04/2024</td>\n",
       "      <td>1377.22</td>\n",
       "      <td>Salary HSCT PTY LTD PAY FOR 5/04/2024</td>\n",
       "      <td>2092.54</td>\n",
       "    </tr>\n",
       "    <tr>\n",
       "      <th>6</th>\n",
       "      <td>05/04/2024</td>\n",
       "      <td>-17.80</td>\n",
       "      <td>COLES 4787 CANBERRA AU AUS Card xx0393 Value D...</td>\n",
       "      <td>715.32</td>\n",
       "    </tr>\n",
       "    <tr>\n",
       "      <th>7</th>\n",
       "      <td>04/04/2024</td>\n",
       "      <td>356.34</td>\n",
       "      <td>Direct Credit 128594 FUEGO NERO PTY L PAY FOR ...</td>\n",
       "      <td>733.12</td>\n",
       "    </tr>\n",
       "    <tr>\n",
       "      <th>8</th>\n",
       "      <td>04/04/2024</td>\n",
       "      <td>-11.24</td>\n",
       "      <td>COLES 4787 CANBERRA AU AUS Card xx0393 Value D...</td>\n",
       "      <td>376.78</td>\n",
       "    </tr>\n",
       "    <tr>\n",
       "      <th>9</th>\n",
       "      <td>03/04/2024</td>\n",
       "      <td>-16.04</td>\n",
       "      <td>1919 Lanzhou Beef Nood Canberra AC AUS Card xx...</td>\n",
       "      <td>388.02</td>\n",
       "    </tr>\n",
       "  </tbody>\n",
       "</table>\n",
       "</div>"
      ],
      "text/plain": [
       "         Date  Expense                                        Description  \\\n",
       "0  06/04/2024   -36.67  Banme Braddon AU AUS Card xx0393 Value Date: 0...   \n",
       "1  06/04/2024    -6.45  COLES 4787 CANBERRA AU AUS Card xx0393 Value D...   \n",
       "2  06/04/2024    -7.00  Soul Origin Belconnen Belconnen AC AUS Card xx...   \n",
       "3  06/04/2024    -4.90  Soul Origin Belconnen Belconnen AC AUS Card xx...   \n",
       "4  06/04/2024   -45.17  Vodafone Australia North Sydney AU AUS Card xx...   \n",
       "5  05/04/2024  1377.22              Salary HSCT PTY LTD PAY FOR 5/04/2024   \n",
       "6  05/04/2024   -17.80  COLES 4787 CANBERRA AU AUS Card xx0393 Value D...   \n",
       "7  04/04/2024   356.34  Direct Credit 128594 FUEGO NERO PTY L PAY FOR ...   \n",
       "8  04/04/2024   -11.24  COLES 4787 CANBERRA AU AUS Card xx0393 Value D...   \n",
       "9  03/04/2024   -16.04  1919 Lanzhou Beef Nood Canberra AC AUS Card xx...   \n",
       "\n",
       "   Balance  \n",
       "0  1992.35  \n",
       "1  2029.02  \n",
       "2  2035.47  \n",
       "3  2042.47  \n",
       "4  2047.37  \n",
       "5  2092.54  \n",
       "6   715.32  \n",
       "7   733.12  \n",
       "8   376.78  \n",
       "9   388.02  "
      ]
     },
     "execution_count": 115,
     "metadata": {},
     "output_type": "execute_result"
    }
   ],
   "source": [
    "data.head(10)"
   ]
  },
  {
   "cell_type": "code",
   "execution_count": 116,
   "metadata": {},
   "outputs": [
    {
     "data": {
      "text/plain": [
       "Date           0\n",
       "Expense        0\n",
       "Description    0\n",
       "Balance        0\n",
       "dtype: int64"
      ]
     },
     "execution_count": 116,
     "metadata": {},
     "output_type": "execute_result"
    }
   ],
   "source": [
    "missing_value_cnt = data.isnull().sum()\n",
    "missing_value_cnt"
   ]
  },
  {
   "cell_type": "markdown",
   "metadata": {},
   "source": [
    "Dataset from the CommomBank is quite clean."
   ]
  },
  {
   "cell_type": "code",
   "execution_count": 117,
   "metadata": {},
   "outputs": [
    {
     "data": {
      "text/plain": [
       "0      Banme Braddon AU AUS Card xx0393 Value Date: 0...\n",
       "1      COLES 4787 CANBERRA AU AUS Card xx0393 Value D...\n",
       "2      Soul Origin Belconnen Belconnen AC AUS Card xx...\n",
       "3      Soul Origin Belconnen Belconnen AC AUS Card xx...\n",
       "4      Vodafone Australia North Sydney AU AUS Card xx...\n",
       "                             ...                        \n",
       "265    GUZMAN Y GOMEZ SURRY HILLS NS AUS Card xx0393 ...\n",
       "266    Nespresso Australia BT Canberra AU AUS Card xx...\n",
       "267    COLES 4787 CANBERRA AU AUS Card xx0393 Value D...\n",
       "268    Sticky Beak Canberra AC AUS Card xx0393 Value ...\n",
       "269    Lucky Duck Canberra AC AUS Card xx0393 Value D...\n",
       "Name: Description, Length: 270, dtype: object"
      ]
     },
     "execution_count": 117,
     "metadata": {},
     "output_type": "execute_result"
    }
   ],
   "source": [
    "# only need description data to train the categorizer\n",
    "description = data['Description']\n",
    "description"
   ]
  },
  {
   "cell_type": "markdown",
   "metadata": {},
   "source": [
    "### Step 1: NLP bank description text normalisation and grouping"
   ]
  },
  {
   "cell_type": "code",
   "execution_count": 118,
   "metadata": {},
   "outputs": [
    {
     "data": {
      "text/plain": [
       "0                           banme braddon\n",
       "1                          coles canberra\n",
       "2      soul origin belconnen belconnen ac\n",
       "3      soul origin belconnen belconnen ac\n",
       "4         vodafone australia north sydney\n",
       "                      ...                \n",
       "265           guzman gomez surry hills ns\n",
       "266       nespresso australia bt canberra\n",
       "267                        coles canberra\n",
       "268               sticky beak canberra ac\n",
       "269                lucky duck canberra ac\n",
       "Name: Description, Length: 270, dtype: object"
      ]
     },
     "execution_count": 118,
     "metadata": {},
     "output_type": "execute_result"
    }
   ],
   "source": [
    "# text normalisation\n",
    "# convert to lower case\n",
    "description = description.str.lower()\n",
    "# remove numbers\n",
    "description = description.str.replace(r'\\d+', '', regex=True)\n",
    "# remove all punctuation except words and space\n",
    "description = description.str.replace(r'[^\\w\\s]', '', regex=True)\n",
    "# remove white spaces\n",
    "description = description.str.strip()\n",
    "\n",
    "# remove stop words\n",
    "from nltk.corpus import stopwords\n",
    "stop = stopwords.words('english')\n",
    "description = description.apply(lambda x: ' '.join([word for word in x.split() if word not in (stop)]))\n",
    "\n",
    "# not sure if these words are useless, may comment them in the future\n",
    "# remove useless words\n",
    "useless = ['au', 'aus', 'card', 'xx', 'value', 'date']\n",
    "description = description.apply(lambda x: ' '.join([word for word in x.split() if word not in (useless)]))\n",
    "\n",
    "description"
   ]
  },
  {
   "cell_type": "code",
   "execution_count": 133,
   "metadata": {},
   "outputs": [
    {
     "data": {
      "text/html": [
       "<div>\n",
       "<style scoped>\n",
       "    .dataframe tbody tr th:only-of-type {\n",
       "        vertical-align: middle;\n",
       "    }\n",
       "\n",
       "    .dataframe tbody tr th {\n",
       "        vertical-align: top;\n",
       "    }\n",
       "\n",
       "    .dataframe thead th {\n",
       "        text-align: right;\n",
       "    }\n",
       "</style>\n",
       "<table border=\"1\" class=\"dataframe\">\n",
       "  <thead>\n",
       "    <tr style=\"text-align: right;\">\n",
       "      <th></th>\n",
       "      <th>Count</th>\n",
       "    </tr>\n",
       "    <tr>\n",
       "      <th>Name</th>\n",
       "      <th></th>\n",
       "    </tr>\n",
       "  </thead>\n",
       "  <tbody>\n",
       "    <tr>\n",
       "      <th>coles canberra</th>\n",
       "      <td>40</td>\n",
       "    </tr>\n",
       "    <tr>\n",
       "      <th>guzman gomez surry hills ns</th>\n",
       "      <td>26</td>\n",
       "    </tr>\n",
       "    <tr>\n",
       "      <th>transfer commbank app</th>\n",
       "      <td>19</td>\n",
       "    </tr>\n",
       "    <tr>\n",
       "      <th>soul origin belconnen belconnen ac</th>\n",
       "      <td>14</td>\n",
       "    </tr>\n",
       "    <tr>\n",
       "      <th>direct credit fuego nero pty l pay</th>\n",
       "      <td>12</td>\n",
       "    </tr>\n",
       "    <tr>\n",
       "      <th>...</th>\n",
       "      <td>...</td>\n",
       "    </tr>\n",
       "    <tr>\n",
       "      <th>hokka hokka canberra ac</th>\n",
       "      <td>1</td>\n",
       "    </tr>\n",
       "    <tr>\n",
       "      <th>fuego nero braddon ac</th>\n",
       "      <td>1</td>\n",
       "    </tr>\n",
       "    <tr>\n",
       "      <th>fresh juice bars pty l canberra</th>\n",
       "      <td>1</td>\n",
       "    </tr>\n",
       "    <tr>\n",
       "      <th>football aust merch worongary ql</th>\n",
       "      <td>1</td>\n",
       "    </tr>\n",
       "    <tr>\n",
       "      <th>little steamer canberra ac</th>\n",
       "      <td>1</td>\n",
       "    </tr>\n",
       "  </tbody>\n",
       "</table>\n",
       "<p>100 rows × 1 columns</p>\n",
       "</div>"
      ],
      "text/plain": [
       "                                    Count\n",
       "Name                                     \n",
       "coles canberra                         40\n",
       "guzman gomez surry hills ns            26\n",
       "transfer commbank app                  19\n",
       "soul origin belconnen belconnen ac     14\n",
       "direct credit fuego nero pty l pay     12\n",
       "...                                   ...\n",
       "hokka hokka canberra ac                 1\n",
       "fuego nero braddon ac                   1\n",
       "fresh juice bars pty l canberra         1\n",
       "football aust merch worongary ql        1\n",
       "little steamer canberra ac              1\n",
       "\n",
       "[100 rows x 1 columns]"
      ]
     },
     "execution_count": 133,
     "metadata": {},
     "output_type": "execute_result"
    }
   ],
   "source": [
    "# grouping\n",
    "# convert Series to Dataframe\n",
    "dsc_df = description.to_frame()\n",
    "dsc_df.columns = ['Name']\n",
    "\n",
    "# groupby name\n",
    "dsc_group_df = dsc_df.groupby(['Name']).size().to_frame()\n",
    "dsc_group_df.columns = ['Count']\n",
    "dsc_group_df = dsc_group_df.sort_values('Count', ascending=False)\n",
    "dsc_group_df"
   ]
  }
 ],
 "metadata": {
  "kernelspec": {
   "display_name": "tf_m1",
   "language": "python",
   "name": "python3"
  },
  "language_info": {
   "codemirror_mode": {
    "name": "ipython",
    "version": 3
   },
   "file_extension": ".py",
   "mimetype": "text/x-python",
   "name": "python",
   "nbconvert_exporter": "python",
   "pygments_lexer": "ipython3",
   "version": "3.8.12"
  }
 },
 "nbformat": 4,
 "nbformat_minor": 2
}
